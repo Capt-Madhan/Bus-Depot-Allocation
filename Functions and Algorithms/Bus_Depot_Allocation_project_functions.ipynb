{
  "nbformat": 4,
  "nbformat_minor": 0,
  "metadata": {
    "colab": {
      "name": "Bus Depot Allocation project functions.ipynb",
      "provenance": [],
      "collapsed_sections": []
    },
    "kernelspec": {
      "name": "python3",
      "display_name": "Python 3"
    },
    "language_info": {
      "name": "python"
    }
  },
  "cells": [
    {
      "cell_type": "markdown",
      "source": [
        "## **North-West Rule to find IBFS**"
      ],
      "metadata": {
        "id": "QxDqPrFTGTeH"
      }
    },
    {
      "cell_type": "code",
      "execution_count": 41,
      "metadata": {
        "id": "IhMI5DyW2ctg"
      },
      "outputs": [],
      "source": [
        "import numpy as np\n",
        "import sys\n",
        "fact = [7,9,18]\n",
        "ware = [5,8,7,14]\n",
        "weights = np.array([[19,30,50,10],\n",
        "                    [70,30,40,60],\n",
        "                    [40,8,70,20]])"
      ]
    },
    {
      "cell_type": "code",
      "source": [
        "def northWestIBFS(fact, ware,weights):\n",
        "  n = 0\n",
        "  w = 0\n",
        "  ibfs = 0\n",
        "  arr = np.array([[0 for i in range(len(ware))] for i in range(len(fact))])  \n",
        "  while  n < len(fact) and w < len(ware):\n",
        "    if fact[n] > ware[w]:\n",
        "      arr[n][w] = ware[w]\n",
        "      fact[n] -= ware[w]\n",
        "      ware[w] = 0\n",
        "      w += 1\n",
        "    elif fact[n] < ware[w]:\n",
        "      arr[n][w] = fact[n]\n",
        "      ware[w] -= fact[n]\n",
        "      fact[n] = 0\n",
        "      n += 1\n",
        "    else:\n",
        "      arr[n][w] = fact[n]\n",
        "      fact[n] = 0\n",
        "      ware[w] = 0\n",
        "      n += 1\n",
        "      w += 1\n",
        "  for i in range(len(arr)):\n",
        "    for j in range(len(arr[0])):\n",
        "      ibfs += arr[i][j] * weights[i][j]\n",
        "  return arr,ibfs\n"
      ],
      "metadata": {
        "id": "KY7K8tTa5l4E"
      },
      "execution_count": 26,
      "outputs": []
    },
    {
      "cell_type": "code",
      "source": [
        "fact = [7,9,18]\n",
        "ware = [5,8,7,14]\n",
        "weights = np.array([[19,30,50,10],\n",
        "                    [70,30,40,60],\n",
        "                    [40,8,70,20]])\n",
        "\n",
        "northWestIBFS(fact, ware,weights)"
      ],
      "metadata": {
        "colab": {
          "base_uri": "https://localhost:8080/"
        },
        "id": "iF50S48B6vpS",
        "outputId": "0ede22fa-c92e-41b0-ef9f-b2583eb6170d"
      },
      "execution_count": 27,
      "outputs": [
        {
          "output_type": "execute_result",
          "data": {
            "text/plain": [
              "(array([[ 5,  2,  0,  0],\n",
              "        [ 0,  6,  3,  0],\n",
              "        [ 0,  0,  4, 14]]), 1015)"
            ]
          },
          "metadata": {},
          "execution_count": 27
        }
      ]
    },
    {
      "cell_type": "code",
      "source": [
        "fact = [30,70,50]\n",
        "ware = [40,30,40,40]\n",
        "weights = np.array([[19,30,50,10],\n",
        "                    [70,30,40,60],\n",
        "                    [40,8,70,20]])\n",
        "\n",
        "northWestIBFS(fact, ware,weights)"
      ],
      "metadata": {
        "colab": {
          "base_uri": "https://localhost:8080/"
        },
        "id": "iTtCMZZ6699l",
        "outputId": "bbf48185-4c2c-4994-cb03-b17aae4ba32e"
      },
      "execution_count": 28,
      "outputs": [
        {
          "output_type": "execute_result",
          "data": {
            "text/plain": [
              "(array([[30,  0,  0,  0],\n",
              "        [10, 30, 30,  0],\n",
              "        [ 0,  0, 10, 40]]), 4870)"
            ]
          },
          "metadata": {},
          "execution_count": 28
        }
      ]
    },
    {
      "cell_type": "code",
      "source": [
        "fact = [10,35,25]\n",
        "ware = [20,25,25]\n",
        "weights = np.array([[2,3,1],\n",
        "                    [5,4,8],\n",
        "                    [5,6,8]])\n",
        "\n",
        "northWestIBFS(fact, ware,weights)"
      ],
      "metadata": {
        "colab": {
          "base_uri": "https://localhost:8080/"
        },
        "id": "U-CZdplWB0oS",
        "outputId": "733769df-31ee-4885-eb51-54cd9791dc13"
      },
      "execution_count": 29,
      "outputs": [
        {
          "output_type": "execute_result",
          "data": {
            "text/plain": [
              "(array([[10,  0,  0],\n",
              "        [10, 25,  0],\n",
              "        [ 0,  0, 25]]), 370)"
            ]
          },
          "metadata": {},
          "execution_count": 29
        }
      ]
    },
    {
      "cell_type": "code",
      "source": [
        "fact = [70,\n",
        "        30,\n",
        "        50]\n",
        "ware = [65,42,43]\n",
        "weights = np.array([[5,7,8],\n",
        "                    [4,4,6],\n",
        "                    [6,7,7]])\n",
        "\n",
        "northWestIBFS(fact, ware,weights)"
      ],
      "metadata": {
        "colab": {
          "base_uri": "https://localhost:8080/"
        },
        "id": "DFCxTkIxEaVl",
        "outputId": "f8499e19-26c4-4726-be3f-76bd03fefd9b"
      },
      "execution_count": 30,
      "outputs": [
        {
          "output_type": "execute_result",
          "data": {
            "text/plain": [
              "(array([[65,  5,  0],\n",
              "        [ 0, 30,  0],\n",
              "        [ 0,  7, 43]]), 830)"
            ]
          },
          "metadata": {},
          "execution_count": 30
        }
      ]
    },
    {
      "cell_type": "markdown",
      "source": [
        "# **Row-Minima method**"
      ],
      "metadata": {
        "id": "y4-upbHKGdXn"
      }
    },
    {
      "cell_type": "code",
      "source": [
        "def row_MinimaIBFS(fact, ware, weights):\n",
        "  n = 0\n",
        "  w = 0\n",
        "  ibfs = 0\n",
        "  arr = np.array([[0 for i in range(len(ware))] for i in range(len(fact))]) \n",
        "  while  n < len(fact) and w < len(ware):\n",
        "    if max(ware) > fact[n]:\n",
        "      w = ware.index(max(ware))\n",
        "      arr[n][w] = fact[n]\n",
        "      ware[w] -= fact[n]\n",
        "      fact[n] = 0\n",
        "      n += 1\n",
        "    elif max(ware) < fact[n]:\n",
        "      w = ware.index(max(ware))\n",
        "      arr[n][w] = ware[w]\n",
        "      fact[n] -= ware[w]\n",
        "      ware[w] = 0\n",
        "    else:\n",
        "      w = ware.index(max(ware))\n",
        "      arr[n][w] = max(ware)\n",
        "      fact[n] = 0\n",
        "      ware[w] = 0\n",
        "      n += 1\n",
        "      w + 1\n",
        "  for i in range(len(arr)):\n",
        "    for j in range(len(arr[0])):\n",
        "      ibfs += arr[i][j] * weights[i][j]\n",
        "  return arr,ibfs\n",
        "      \n",
        "\n",
        "          "
      ],
      "metadata": {
        "id": "9d1PBSVpKDaG"
      },
      "execution_count": 31,
      "outputs": []
    },
    {
      "cell_type": "code",
      "source": [
        "\n",
        "fact = [7,9,18]\n",
        "ware = [5,8,7,14]\n",
        "weights = np.array([[19,30,50,10],\n",
        "                    [70,30,40,60],\n",
        "                    [40,8,70,20]])\n",
        "\n",
        "row_MinimaIBFS(fact, ware,weights)"
      ],
      "metadata": {
        "colab": {
          "base_uri": "https://localhost:8080/"
        },
        "id": "Ml73dC5MP0Vu",
        "outputId": "f024b564-7035-414f-bb35-506771ff941b"
      },
      "execution_count": 32,
      "outputs": [
        {
          "output_type": "execute_result",
          "data": {
            "text/plain": [
              "(array([[0, 0, 0, 7],\n",
              "        [0, 8, 1, 0],\n",
              "        [5, 0, 6, 7]]), 1110)"
            ]
          },
          "metadata": {},
          "execution_count": 32
        }
      ]
    },
    {
      "cell_type": "code",
      "source": [
        "fact = [70,\n",
        "        30,\n",
        "        50]\n",
        "ware = [65,42,43]\n",
        "weights = np.array([[5,7,8],\n",
        "                    [4,4,6],\n",
        "                    [6,7,7]])\n",
        "\n",
        "row_MinimaIBFS(fact, ware,weights)"
      ],
      "metadata": {
        "colab": {
          "base_uri": "https://localhost:8080/"
        },
        "id": "LGbnNEJLQWhA",
        "outputId": "4b6aa468-2504-439f-dbb7-11266bf3b4f0"
      },
      "execution_count": 10,
      "outputs": [
        {
          "output_type": "execute_result",
          "data": {
            "text/plain": [
              "(array([[65,  0,  5],\n",
              "        [ 0, 30,  0],\n",
              "        [ 0, 12, 38]]), 835)"
            ]
          },
          "metadata": {},
          "execution_count": 10
        }
      ]
    },
    {
      "cell_type": "markdown",
      "source": [
        "# **Least Cost Method to find IBFS**"
      ],
      "metadata": {
        "id": "d7bUWbPuQ7Yd"
      }
    },
    {
      "cell_type": "code",
      "source": [
        "weights = np.array([[5,7,8],\n",
        "                    [5,4,6],\n",
        "                    [6,2,7]])\n",
        "np.argwhere(weights == np.min(weights))[0][0]"
      ],
      "metadata": {
        "colab": {
          "base_uri": "https://localhost:8080/"
        },
        "id": "inLqDzgxTzoy",
        "outputId": "2626b7c1-1646-4482-edd0-5b37e10baeb3"
      },
      "execution_count": 25,
      "outputs": [
        {
          "output_type": "execute_result",
          "data": {
            "text/plain": [
              "2"
            ]
          },
          "metadata": {},
          "execution_count": 25
        }
      ]
    },
    {
      "cell_type": "code",
      "source": [
        "def leastCostIBFS(fact, ware,weights):\n",
        "  n = 0\n",
        "  w = 0\n",
        "  ibfs = 0\n",
        "  temp_weights = weights.copy()\n",
        "  arr = np.array([[0 for i in range(len(ware))] for i in range(len(fact))]) \n",
        "  while sum(fact) > 0:\n",
        "    n = np.argwhere(weights == np.min(weights))[0][0]\n",
        "    w = np.argwhere(weights == np.min(weights))[0][1]\n",
        "    if fact[n] > ware[w]:\n",
        "      arr[n][w] = ware[w]\n",
        "      fact[n] -= ware[w]\n",
        "      ware[w] = 0\n",
        "    elif fact[n] < ware[w]:\n",
        "      arr[n][w] = fact[n]\n",
        "      ware[w] -= fact[n]\n",
        "      fact[n] = 0\n",
        "    else:\n",
        "      arr[n][w] = fact[n]\n",
        "      fact[n] = 0\n",
        "      ware[w] = 0\n",
        "    weights[n][w] = sys.maxsize\n",
        "  for i in range(len(arr)):\n",
        "    for j in range(len(arr[0])):\n",
        "      ibfs += arr[i][j] * temp_weights[i][j]\n",
        "  return arr,ibfs"
      ],
      "metadata": {
        "id": "WkIGDXybS3hL"
      },
      "execution_count": 60,
      "outputs": []
    },
    {
      "cell_type": "code",
      "source": [
        "fact = [7,9,18]\n",
        "ware = [5,8,7,14]\n",
        "weights = np.array([[19,30,50,10],\n",
        "                    [70,30,40,60],\n",
        "                    [40,8,70,20]])\n",
        "\n",
        "leastCostIBFS(fact, ware,weights)"
      ],
      "metadata": {
        "colab": {
          "base_uri": "https://localhost:8080/"
        },
        "id": "AB9l-N-mxwZc",
        "outputId": "15114f0d-9185-4d82-9dbe-8b673fb20805"
      },
      "execution_count": 61,
      "outputs": [
        {
          "output_type": "execute_result",
          "data": {
            "text/plain": [
              "(array([[0, 0, 0, 7],\n",
              "        [2, 0, 7, 0],\n",
              "        [3, 8, 0, 7]]), 814)"
            ]
          },
          "metadata": {},
          "execution_count": 61
        }
      ]
    },
    {
      "cell_type": "code",
      "source": [
        "fact = [70,\n",
        "        30,\n",
        "        50]\n",
        "ware = [65,42,43]\n",
        "weights = np.array([[5,7,8],\n",
        "                    [4,4,6],\n",
        "                    [6,7,7]])\n",
        "\n",
        "leastCostIBFS(fact, ware,weights)"
      ],
      "metadata": {
        "colab": {
          "base_uri": "https://localhost:8080/"
        },
        "id": "BJAjC_BaxwtX",
        "outputId": "fa1673fa-d18e-415d-b5bf-31b13eeccd0a"
      },
      "execution_count": 62,
      "outputs": [
        {
          "output_type": "execute_result",
          "data": {
            "text/plain": [
              "(array([[35, 35,  0],\n",
              "        [30,  0,  0],\n",
              "        [ 0,  7, 43]]), 890)"
            ]
          },
          "metadata": {},
          "execution_count": 62
        }
      ]
    },
    {
      "cell_type": "code",
      "source": [
        ""
      ],
      "metadata": {
        "id": "sEYrM5et08o2"
      },
      "execution_count": null,
      "outputs": []
    }
  ]
}